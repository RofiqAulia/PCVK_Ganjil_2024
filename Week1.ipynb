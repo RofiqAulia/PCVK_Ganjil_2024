{
  "nbformat": 4,
  "nbformat_minor": 0,
  "metadata": {
    "colab": {
      "provenance": [],
      "authorship_tag": "ABX9TyN7p+Jvem0Vn1V2JbSlr+lT",
      "include_colab_link": true
    },
    "kernelspec": {
      "name": "python3",
      "display_name": "Python 3"
    },
    "language_info": {
      "name": "python"
    }
  },
  "cells": [
    {
      "cell_type": "markdown",
      "metadata": {
        "id": "view-in-github",
        "colab_type": "text"
      },
      "source": [
        "<a href=\"https://colab.research.google.com/github/RofiqAulia/PCVK_Ganjil_2024/blob/main/Week1.ipynb\" target=\"_parent\"><img src=\"https://colab.research.google.com/assets/colab-badge.svg\" alt=\"Open In Colab\"/></a>"
      ]
    },
    {
      "cell_type": "code",
      "execution_count": null,
      "metadata": {
        "id": "dhJcnN1fDQOJ"
      },
      "outputs": [],
      "source": [
        "import numpy as np\n",
        "import pandas as pd\n",
        "import cv2 as cv\n",
        "from google.colab.patches import cv2_imshow  # for image display\n",
        "from skimage import io\n",
        "from skimage import transform\n",
        "from PIL import Image\n",
        "import matplotlib.pylab as plt\n",
        "\n",
        "# Step 2: Membuat list untuk menyimpan URL dari beberapa gambar\n",
        "urls = [\n",
        "    \"https://iiif.lib.ncsu.edu/iiif/0052574/full/800,/0/default.jpg\",\n",
        "    \"https://iiif.lib.ncsu.edu/iiif/0016007/full/800,/0/default.jpg\",\n",
        "    \"https://www.pinterest.com/pin/305118943477620262/\"\n",
        "]\n",
        "\n",
        "# Baca dan tampilkan gambar\n",
        "for url in urls:\n",
        "    image = io.imread(url)                          # Baca gambar\n",
        "    image = cv.resize(image, (0,0), fx=0.5, fy=0.5) # Ubah ukuran gambar menjadi setengah ukuran\n",
        "    image_bgr = cv.cvtColor(image, cv.COLOR_RGB2BGR)# Konversi warna ke BGR (untuk cv2)\n",
        "    final_frame = cv.hconcat([image_bgr, image])    # Gabungkan gambar secara horizontal\n",
        "    cv2_imshow(final_frame)                         # Tampilkan gambar\n",
        "    print('\\n')"
      ]
    }
  ]
}